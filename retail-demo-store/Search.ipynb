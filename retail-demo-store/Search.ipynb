{
 "cells": [
  {
   "cell_type": "markdown",
   "metadata": {},
   "source": [
    "# Retail Demo Store - Search Workshop\n",
    "\n",
    "Welcome to the Retail Demo Store Search Workshop. In this module we'll be configuring the Retail Demo Store Search service to allow searching for product data via Elasticsearch. An Elasticsearch domain should already be provisioned for you in your AWS environment.\n",
    "\n",
    "Recommended Time: 20 Minutes"
   ]
  },
  {
   "cell_type": "markdown",
   "metadata": {},
   "source": [
    "## Setup\n",
    "\n",
    "To get started, we need to perform a bit of setup. Walk through each of the following steps to configure your environment to interact with the Amazon Personalize Service."
   ]
  },
  {
   "cell_type": "markdown",
   "metadata": {},
   "source": [
    "### Import Dependencies and Setup Boto3 Python Clients\n",
    "\n",
    "Througout this workshop we will need access to some common libraries and clients for connecting to AWS services."
   ]
  },
  {
   "cell_type": "code",
   "execution_count": 1,
   "metadata": {},
   "outputs": [],
   "source": [
    "# Import Dependencies\n",
    "\n",
    "import boto3\n",
    "import json\n",
    "import pandas as pd\n",
    "import time\n",
    "import requests\n",
    "import csv\n",
    "\n",
    "from random import randint\n",
    "from botocore.exceptions import ClientError\n",
    "\n",
    "# Setup Clients\n",
    "\n",
    "servicediscovery = boto3.client('servicediscovery')\n",
    "ssm = boto3.client('ssm')\n",
    "es_service = boto3.client('es')"
   ]
  },
  {
   "cell_type": "markdown",
   "metadata": {},
   "source": [
    "## Create Index and Bulk Index Product Data"
   ]
  },
  {
   "cell_type": "markdown",
   "metadata": {},
   "source": [
    "### Get Products Service Instance\n",
    "\n",
    "We will be creating a new Elasticsearch Index and indexing our product data so that our users can search for products. To do this, first we will be pulling our Product data from [Products Service](https://github.com/aws-samples/retail-demo-store/tree/master/src/products) that is deployed as part of the Retail Demo Store. To connect to the Products Service we will use Service Discovery to discover an instance of the Products Service, and then connect directly to that service instances to access our data."
   ]
  },
  {
   "cell_type": "code",
   "execution_count": 2,
   "metadata": {},
   "outputs": [
    {
     "name": "stdout",
     "output_type": "stream",
     "text": [
      "Service Instance IP: 10.215.10.226\n"
     ]
    }
   ],
   "source": [
    "response = servicediscovery.discover_instances(\n",
    "    NamespaceName='retaildemostore.local',\n",
    "    ServiceName='products',\n",
    "    MaxResults=1,\n",
    "    HealthStatus='HEALTHY'\n",
    ")\n",
    "\n",
    "products_service_instance = response['Instances'][0]['Attributes']['AWS_INSTANCE_IPV4']\n",
    "print('Service Instance IP: {}'.format(products_service_instance))"
   ]
  },
  {
   "cell_type": "markdown",
   "metadata": {},
   "source": [
    "#### Download and Explore the Products Dataset\n",
    "\n",
    "Now that we have the IP address of one of our Products Service instances, we can connect to it and download our product catalog. To more easily explore our data, we will convert the json response form the Products Service into a dataframe and print it as a table. "
   ]
  },
  {
   "cell_type": "code",
   "execution_count": 3,
   "metadata": {},
   "outputs": [
    {
     "data": {
      "text/html": [
       "<div>\n",
       "<style scoped>\n",
       "    .dataframe tbody tr th:only-of-type {\n",
       "        vertical-align: middle;\n",
       "    }\n",
       "\n",
       "    .dataframe tbody tr th {\n",
       "        vertical-align: top;\n",
       "    }\n",
       "\n",
       "    .dataframe thead th {\n",
       "        text-align: right;\n",
       "    }\n",
       "</style>\n",
       "<table border=\"1\" class=\"dataframe\">\n",
       "  <thead>\n",
       "    <tr style=\"text-align: right;\">\n",
       "      <th></th>\n",
       "      <th>id</th>\n",
       "      <th>url</th>\n",
       "      <th>sk</th>\n",
       "      <th>name</th>\n",
       "      <th>category</th>\n",
       "      <th>style</th>\n",
       "      <th>description</th>\n",
       "      <th>price</th>\n",
       "      <th>image</th>\n",
       "      <th>gender_affinity</th>\n",
       "      <th>current_stock</th>\n",
       "      <th>featured</th>\n",
       "    </tr>\n",
       "  </thead>\n",
       "  <tbody>\n",
       "    <tr>\n",
       "      <th>0</th>\n",
       "      <td>e1669081-8ffc-4dec-97a6-e9176d7f6651</td>\n",
       "      <td>http://d3idkbp2p2okv.cloudfront.net/#/product/...</td>\n",
       "      <td></td>\n",
       "      <td>Sans Pareil Scarf</td>\n",
       "      <td>apparel</td>\n",
       "      <td>scarf</td>\n",
       "      <td>Sans pareil scarf for women</td>\n",
       "      <td>124.99</td>\n",
       "      <td>http://d3idkbp2p2okv.cloudfront.net/images/app...</td>\n",
       "      <td>F</td>\n",
       "      <td>12</td>\n",
       "      <td>NaN</td>\n",
       "    </tr>\n",
       "    <tr>\n",
       "      <th>1</th>\n",
       "      <td>cfafd627-7d6b-43a5-be05-4c7937be417d</td>\n",
       "      <td>http://d3idkbp2p2okv.cloudfront.net/#/product/...</td>\n",
       "      <td></td>\n",
       "      <td>Chef Knife</td>\n",
       "      <td>housewares</td>\n",
       "      <td>kitchen</td>\n",
       "      <td>A must-have for your kitchen</td>\n",
       "      <td>57.99</td>\n",
       "      <td>http://d3idkbp2p2okv.cloudfront.net/images/hou...</td>\n",
       "      <td>NaN</td>\n",
       "      <td>9</td>\n",
       "      <td>NaN</td>\n",
       "    </tr>\n",
       "    <tr>\n",
       "      <th>...</th>\n",
       "      <td>...</td>\n",
       "      <td>...</td>\n",
       "      <td>...</td>\n",
       "      <td>...</td>\n",
       "      <td>...</td>\n",
       "      <td>...</td>\n",
       "      <td>...</td>\n",
       "      <td>...</td>\n",
       "      <td>...</td>\n",
       "      <td>...</td>\n",
       "      <td>...</td>\n",
       "      <td>...</td>\n",
       "    </tr>\n",
       "    <tr>\n",
       "      <th>2447</th>\n",
       "      <td>12f93a36-e282-4445-92ae-356eb6a560fd</td>\n",
       "      <td>http://d3idkbp2p2okv.cloudfront.net/#/product/...</td>\n",
       "      <td></td>\n",
       "      <td>Roses Arrangement</td>\n",
       "      <td>floral</td>\n",
       "      <td>arrangement</td>\n",
       "      <td>Roses arrangement grown sustainably on our org...</td>\n",
       "      <td>98.99</td>\n",
       "      <td>http://d3idkbp2p2okv.cloudfront.net/images/flo...</td>\n",
       "      <td>NaN</td>\n",
       "      <td>19</td>\n",
       "      <td>NaN</td>\n",
       "    </tr>\n",
       "    <tr>\n",
       "      <th>2448</th>\n",
       "      <td>23e77743-ff28-400a-811f-e08d3cab5e45</td>\n",
       "      <td>http://d3idkbp2p2okv.cloudfront.net/#/product/...</td>\n",
       "      <td></td>\n",
       "      <td>Ultrachic Scarf</td>\n",
       "      <td>apparel</td>\n",
       "      <td>scarf</td>\n",
       "      <td>Ultrachic scarf for women for every occasion</td>\n",
       "      <td>123.99</td>\n",
       "      <td>http://d3idkbp2p2okv.cloudfront.net/images/app...</td>\n",
       "      <td>F</td>\n",
       "      <td>7</td>\n",
       "      <td>NaN</td>\n",
       "    </tr>\n",
       "  </tbody>\n",
       "</table>\n",
       "<p>2449 rows × 12 columns</p>\n",
       "</div>"
      ],
      "text/plain": [
       "                                        id  \\\n",
       "0     e1669081-8ffc-4dec-97a6-e9176d7f6651   \n",
       "1     cfafd627-7d6b-43a5-be05-4c7937be417d   \n",
       "...                                    ...   \n",
       "2447  12f93a36-e282-4445-92ae-356eb6a560fd   \n",
       "2448  23e77743-ff28-400a-811f-e08d3cab5e45   \n",
       "\n",
       "                                                    url sk               name  \\\n",
       "0     http://d3idkbp2p2okv.cloudfront.net/#/product/...     Sans Pareil Scarf   \n",
       "1     http://d3idkbp2p2okv.cloudfront.net/#/product/...            Chef Knife   \n",
       "...                                                 ... ..                ...   \n",
       "2447  http://d3idkbp2p2okv.cloudfront.net/#/product/...     Roses Arrangement   \n",
       "2448  http://d3idkbp2p2okv.cloudfront.net/#/product/...       Ultrachic Scarf   \n",
       "\n",
       "        category        style  \\\n",
       "0        apparel        scarf   \n",
       "1     housewares      kitchen   \n",
       "...          ...          ...   \n",
       "2447      floral  arrangement   \n",
       "2448     apparel        scarf   \n",
       "\n",
       "                                            description   price  \\\n",
       "0                           Sans pareil scarf for women  124.99   \n",
       "1                          A must-have for your kitchen   57.99   \n",
       "...                                                 ...     ...   \n",
       "2447  Roses arrangement grown sustainably on our org...   98.99   \n",
       "2448       Ultrachic scarf for women for every occasion  123.99   \n",
       "\n",
       "                                                  image gender_affinity  \\\n",
       "0     http://d3idkbp2p2okv.cloudfront.net/images/app...               F   \n",
       "1     http://d3idkbp2p2okv.cloudfront.net/images/hou...             NaN   \n",
       "...                                                 ...             ...   \n",
       "2447  http://d3idkbp2p2okv.cloudfront.net/images/flo...             NaN   \n",
       "2448  http://d3idkbp2p2okv.cloudfront.net/images/app...               F   \n",
       "\n",
       "      current_stock featured  \n",
       "0                12      NaN  \n",
       "1                 9      NaN  \n",
       "...             ...      ...  \n",
       "2447             19      NaN  \n",
       "2448              7      NaN  \n",
       "\n",
       "[2449 rows x 12 columns]"
      ]
     },
     "execution_count": 3,
     "metadata": {},
     "output_type": "execute_result"
    }
   ],
   "source": [
    "response = requests.get('http://{}/products/all'.format(products_service_instance))\n",
    "products = response.json()\n",
    "products_df = pd.DataFrame(products)\n",
    "pd.set_option('display.max_rows', 5)\n",
    "\n",
    "products_df"
   ]
  },
  {
   "cell_type": "markdown",
   "metadata": {},
   "source": [
    "### Install Elasticsearch Python Library\n",
    "\n",
    "We will use the Python Elasticsearch library to connect to our Amazon Elasticsearch cluster, create a new index, and then bulk index our product data. First, we need to install the Elasticsearch library into our environment."
   ]
  },
  {
   "cell_type": "code",
   "execution_count": 4,
   "metadata": {},
   "outputs": [
    {
     "name": "stdout",
     "output_type": "stream",
     "text": [
      "Requirement already satisfied: pip in /home/ec2-user/anaconda3/envs/python3/lib/python3.6/site-packages (20.3.3)\n",
      "Collecting pip\n",
      "  Using cached pip-21.0.1-py3-none-any.whl (1.5 MB)\n",
      "Installing collected packages: pip\n",
      "  Attempting uninstall: pip\n",
      "    Found existing installation: pip 20.3.3\n",
      "    Uninstalling pip-20.3.3:\n",
      "      Successfully uninstalled pip-20.3.3\n",
      "Successfully installed pip-21.0.1\n",
      "Collecting elasticsearch\n",
      "  Downloading elasticsearch-7.11.0-py2.py3-none-any.whl (325 kB)\n",
      "\u001b[K     |████████████████████████████████| 325 kB 25.4 MB/s eta 0:00:01\n",
      "\u001b[?25hRequirement already satisfied: certifi in /home/ec2-user/anaconda3/envs/python3/lib/python3.6/site-packages (from elasticsearch) (2020.12.5)\n",
      "Requirement already satisfied: urllib3<2,>=1.21.1 in /home/ec2-user/anaconda3/envs/python3/lib/python3.6/site-packages (from elasticsearch) (1.26.2)\n",
      "Installing collected packages: elasticsearch\n",
      "Successfully installed elasticsearch-7.11.0\n"
     ]
    }
   ],
   "source": [
    "!pip install --upgrade pip\n",
    "!pip install elasticsearch"
   ]
  },
  {
   "cell_type": "markdown",
   "metadata": {},
   "source": [
    "### Find Elasticsearch Domain Endpoint\n",
    "\n",
    "Before we can configure the Elasticsearch client, we need to determine the endpoint for the Elasticsearch domain created in your AWS environment. We will accomplish this by looking for the Elasticsearch domain with tag key of `Name` and tag value of `retaildemostore`. This tag was associated with the Amazon Elasticsearch domain that was created when the project was deployed to your AWS account."
   ]
  },
  {
   "cell_type": "code",
   "execution_count": 5,
   "metadata": {},
   "outputs": [
    {
     "name": "stdout",
     "output_type": "stream",
     "text": [
      "Elasticsearch domain endpoint: vpc-retaild-elasti-5calm9svzdp5-egl24hvepbj2ckau6hfdgzm3mq.us-east-1.es.amazonaws.com\n"
     ]
    }
   ],
   "source": [
    "elasticsearch_domain_endpoint = None\n",
    "\n",
    "domains_response = es_service.list_domain_names()\n",
    "\n",
    "for domain_name in domains_response['DomainNames']:\n",
    "    describe_response = es_service.describe_elasticsearch_domain(\n",
    "        DomainName=domain_name['DomainName']\n",
    "    )\n",
    "    \n",
    "    tags_response = es_service.list_tags(ARN=describe_response['DomainStatus']['ARN'])\n",
    "\n",
    "    domain_match = False\n",
    "    for tag in tags_response['TagList']:\n",
    "        if tag['Key'] == 'Name' and tag['Value'] == 'retaildemostore':\n",
    "            domain_match = True\n",
    "            break\n",
    "            \n",
    "    if domain_match:\n",
    "        elasticsearch_domain_endpoint = describe_response['DomainStatus']['Endpoints']['vpc']\n",
    "        break;\n",
    "\n",
    "print('Elasticsearch domain endpoint: ' + str(elasticsearch_domain_endpoint))\n",
    "\n",
    "if not elasticsearch_domain_endpoint:\n",
    "    raise Exception('Elasticsearch domain endpoint could not be determined. Ensure Elasticsearch domain has been successfully created and has \"retaildemostore\" tag before continuing.')"
   ]
  },
  {
   "cell_type": "markdown",
   "metadata": {},
   "source": [
    "### Configure and Create Elasticsearch Client"
   ]
  },
  {
   "cell_type": "code",
   "execution_count": 6,
   "metadata": {},
   "outputs": [],
   "source": [
    "from elasticsearch import Elasticsearch\n",
    "\n",
    "ES_HOST = {\n",
    "    'host' : elasticsearch_domain_endpoint,\n",
    "    'port' : 443,\n",
    "    'scheme' : 'https',\n",
    "}\n",
    "INDEX_NAME = 'products'\n",
    "TYPE_NAME = 'product'\n",
    "ID_FIELD = 'id'\n",
    "\n",
    "es = Elasticsearch(hosts = [ES_HOST])"
   ]
  },
  {
   "cell_type": "markdown",
   "metadata": {},
   "source": [
    "### Prepare Product Data for Indexing\n",
    "\n",
    "Batch products into chunks to avoid timeouts."
   ]
  },
  {
   "cell_type": "code",
   "execution_count": 7,
   "metadata": {},
   "outputs": [],
   "source": [
    "bulk_datas = [] \n",
    "bulk_data = []\n",
    "\n",
    "bulk_datas.append(bulk_data)\n",
    "\n",
    "max_data_len = 100\n",
    "\n",
    "for product in products:\n",
    "    data_dict = product\n",
    "\n",
    "    op_dict = {\n",
    "        \"index\": {\n",
    "            \"_index\": INDEX_NAME, \n",
    "            \"_type\": TYPE_NAME, \n",
    "            \"_id\": data_dict[ID_FIELD]\n",
    "        }\n",
    "    }\n",
    "    bulk_data.append(op_dict)\n",
    "    bulk_data.append(data_dict)\n",
    "    \n",
    "    if len(bulk_data) >= max_data_len:\n",
    "        bulk_data = []\n",
    "        bulk_datas.append(bulk_data)"
   ]
  },
  {
   "cell_type": "markdown",
   "metadata": {},
   "source": [
    "### Check for and Delete Existing Indexes\n",
    "\n",
    "If the products index already exists, we'll delete it so everything gets rebuilt from scratch."
   ]
  },
  {
   "cell_type": "code",
   "execution_count": 8,
   "metadata": {},
   "outputs": [
    {
     "name": "stdout",
     "output_type": "stream",
     "text": [
      "Index does not exist. Nothing to do.\n"
     ]
    }
   ],
   "source": [
    "if es.indices.exists(INDEX_NAME):\n",
    "    print(\"Deleting '%s' index...\" % (INDEX_NAME))\n",
    "    res = es.indices.delete(index = INDEX_NAME)\n",
    "    print(\" response: '%s'\" % (res))\n",
    "else:\n",
    "    print('Index does not exist. Nothing to do.')"
   ]
  },
  {
   "cell_type": "markdown",
   "metadata": {},
   "source": [
    "### Create Index"
   ]
  },
  {
   "cell_type": "code",
   "execution_count": 9,
   "metadata": {},
   "outputs": [
    {
     "name": "stdout",
     "output_type": "stream",
     "text": [
      "Creating 'products' index...\n",
      " response: '{'acknowledged': True, 'shards_acknowledged': True, 'index': 'products'}'\n"
     ]
    }
   ],
   "source": [
    "request_body = {\n",
    "    \"settings\" : {\n",
    "        \"number_of_shards\": 1,\n",
    "        \"number_of_replicas\": 0\n",
    "    }\n",
    "}\n",
    "print(\"Creating '%s' index...\" % (INDEX_NAME))\n",
    "res = es.indices.create(index = INDEX_NAME, body = request_body)\n",
    "print(\" response: '%s'\" % (res))"
   ]
  },
  {
   "cell_type": "markdown",
   "metadata": {},
   "source": [
    "### Perform Bulk Indexing"
   ]
  },
  {
   "cell_type": "code",
   "execution_count": 10,
   "metadata": {},
   "outputs": [
    {
     "name": "stdout",
     "output_type": "stream",
     "text": [
      "Bulk indexing...\n",
      "Done\n"
     ]
    }
   ],
   "source": [
    "print(\"Bulk indexing...\")\n",
    "for bulk_data in bulk_datas:\n",
    "    res = es.bulk(index = INDEX_NAME, body = bulk_data, refresh = True)\n",
    "    \n",
    "print(\"Done\")"
   ]
  },
  {
   "cell_type": "markdown",
   "metadata": {},
   "source": [
    "### Validate Results Through Elasticsearch\n",
    "\n",
    "To verify that the products have been successfully indexed, let's perform a wildcard search for `beard*` directly against the Elasticsearch index."
   ]
  },
  {
   "cell_type": "code",
   "execution_count": 11,
   "metadata": {},
   "outputs": [
    {
     "name": "stdout",
     "output_type": "stream",
     "text": [
      "{\n",
      "  \"took\": 768,\n",
      "  \"timed_out\": false,\n",
      "  \"_shards\": {\n",
      "    \"total\": 1,\n",
      "    \"successful\": 1,\n",
      "    \"skipped\": 0,\n",
      "    \"failed\": 0\n",
      "  },\n",
      "  \"hits\": {\n",
      "    \"total\": {\n",
      "      \"value\": 7,\n",
      "      \"relation\": \"eq\"\n",
      "    },\n",
      "    \"max_score\": 1.0,\n",
      "    \"hits\": [\n",
      "      {\n",
      "        \"_index\": \"products\",\n",
      "        \"_type\": \"product\",\n",
      "        \"_id\": \"d16df944-ea75-43c3-b54b-6738731c081b\",\n",
      "        \"_score\": 1.0,\n",
      "        \"_source\": {\n",
      "          \"id\": \"d16df944-ea75-43c3-b54b-6738731c081b\",\n",
      "          \"url\": \"http://d3idkbp2p2okv.cloudfront.net/#/product/d16df944-ea75-43c3-b54b-6738731c081b\",\n",
      "          \"sk\": \"\",\n",
      "          \"name\": \"Lip Brush\",\n",
      "          \"category\": \"beauty\",\n",
      "          \"style\": \"grooming\",\n",
      "          \"description\": \"Delicately calibrated hairs for consistency of application\",\n",
      "          \"price\": 32,\n",
      "          \"image\": \"http://d3idkbp2p2okv.cloudfront.net/images/beauty/d16df944-ea75-43c3-b54b-6738731c081b.jpg\",\n",
      "          \"gender_affinity\": \"F\",\n",
      "          \"current_stock\": 2\n",
      "        }\n",
      "      },\n",
      "      {\n",
      "        \"_index\": \"products\",\n",
      "        \"_type\": \"product\",\n",
      "        \"_id\": \"39945ad0-57c9-4c28-a69c-532d5d167202\",\n",
      "        \"_score\": 1.0,\n",
      "        \"_source\": {\n",
      "          \"id\": \"39945ad0-57c9-4c28-a69c-532d5d167202\",\n",
      "          \"url\": \"http://d3idkbp2p2okv.cloudfront.net/#/product/39945ad0-57c9-4c28-a69c-532d5d167202\",\n",
      "          \"sk\": \"\",\n",
      "          \"name\": \"Makeup Brushes\",\n",
      "          \"category\": \"beauty\",\n",
      "          \"style\": \"grooming\",\n",
      "          \"description\": \"Makeup brushes for every bathroom\",\n",
      "          \"price\": 36.99,\n",
      "          \"image\": \"http://d3idkbp2p2okv.cloudfront.net/images/beauty/39945ad0-57c9-4c28-a69c-532d5d167202.jpg\",\n",
      "          \"gender_affinity\": \"F\",\n",
      "          \"current_stock\": 18\n",
      "        }\n",
      "      },\n",
      "      {\n",
      "        \"_index\": \"products\",\n",
      "        \"_type\": \"product\",\n",
      "        \"_id\": \"4296626c-fbb0-42b4-9a50-b6c6c16095f3\",\n",
      "        \"_score\": 1.0,\n",
      "        \"_source\": {\n",
      "          \"id\": \"4296626c-fbb0-42b4-9a50-b6c6c16095f3\",\n",
      "          \"url\": \"http://d3idkbp2p2okv.cloudfront.net/#/product/4296626c-fbb0-42b4-9a50-b6c6c16095f3\",\n",
      "          \"sk\": \"\",\n",
      "          \"name\": \"Makeup Brush Kit\",\n",
      "          \"category\": \"beauty\",\n",
      "          \"style\": \"grooming\",\n",
      "          \"description\": \"This nifty makeup brush kit is essential in every bathroom\",\n",
      "          \"price\": 29.99,\n",
      "          \"image\": \"http://d3idkbp2p2okv.cloudfront.net/images/beauty/4296626c-fbb0-42b4-9a50-b6c6c16095f3.jpg\",\n",
      "          \"gender_affinity\": \"F\",\n",
      "          \"current_stock\": 7\n",
      "        }\n",
      "      },\n",
      "      {\n",
      "        \"_index\": \"products\",\n",
      "        \"_type\": \"product\",\n",
      "        \"_id\": \"6b229d13-22a7-44d3-a13c-fd98dda49217\",\n",
      "        \"_score\": 1.0,\n",
      "        \"_source\": {\n",
      "          \"id\": \"6b229d13-22a7-44d3-a13c-fd98dda49217\",\n",
      "          \"url\": \"http://d3idkbp2p2okv.cloudfront.net/#/product/6b229d13-22a7-44d3-a13c-fd98dda49217\",\n",
      "          \"sk\": \"\",\n",
      "          \"name\": \"15 Piece Makeup Brush Set with Fold Up Leather Case\",\n",
      "          \"category\": \"beauty\",\n",
      "          \"style\": \"grooming\",\n",
      "          \"description\": \"A great selection of makeup brushes; look good just carrying it around!\",\n",
      "          \"price\": 99,\n",
      "          \"image\": \"http://d3idkbp2p2okv.cloudfront.net/images/beauty/6b229d13-22a7-44d3-a13c-fd98dda49217.jpg\",\n",
      "          \"gender_affinity\": \"F\",\n",
      "          \"current_stock\": 2\n",
      "        }\n",
      "      },\n",
      "      {\n",
      "        \"_index\": \"products\",\n",
      "        \"_type\": \"product\",\n",
      "        \"_id\": \"89728417-5269-403d-baa3-04b59cdffd0a\",\n",
      "        \"_score\": 1.0,\n",
      "        \"_source\": {\n",
      "          \"id\": \"89728417-5269-403d-baa3-04b59cdffd0a\",\n",
      "          \"url\": \"http://d3idkbp2p2okv.cloudfront.net/#/product/89728417-5269-403d-baa3-04b59cdffd0a\",\n",
      "          \"sk\": \"\",\n",
      "          \"name\": \"4-Piece Makeup Brush Set\",\n",
      "          \"category\": \"beauty\",\n",
      "          \"style\": \"grooming\",\n",
      "          \"description\": \"Get makeup done, the only way how, on your skin.\",\n",
      "          \"price\": 26,\n",
      "          \"image\": \"http://d3idkbp2p2okv.cloudfront.net/images/beauty/89728417-5269-403d-baa3-04b59cdffd0a.jpg\",\n",
      "          \"gender_affinity\": \"F\",\n",
      "          \"current_stock\": 4\n",
      "        }\n",
      "      },\n",
      "      {\n",
      "        \"_index\": \"products\",\n",
      "        \"_type\": \"product\",\n",
      "        \"_id\": \"f91ec34f-a08e-4408-8bb0-592bdd09375c\",\n",
      "        \"_score\": 1.0,\n",
      "        \"_source\": {\n",
      "          \"id\": \"f91ec34f-a08e-4408-8bb0-592bdd09375c\",\n",
      "          \"url\": \"http://d3idkbp2p2okv.cloudfront.net/#/product/f91ec34f-a08e-4408-8bb0-592bdd09375c\",\n",
      "          \"sk\": \"\",\n",
      "          \"name\": \"Brush\",\n",
      "          \"category\": \"beauty\",\n",
      "          \"style\": \"grooming\",\n",
      "          \"description\": \"Soft brush for everyday use\",\n",
      "          \"price\": 50.99,\n",
      "          \"image\": \"http://d3idkbp2p2okv.cloudfront.net/images/beauty/f91ec34f-a08e-4408-8bb0-592bdd09375c.jpg\",\n",
      "          \"gender_affinity\": \"F\",\n",
      "          \"current_stock\": 10\n",
      "        }\n",
      "      },\n",
      "      {\n",
      "        \"_index\": \"products\",\n",
      "        \"_type\": \"product\",\n",
      "        \"_id\": \"8bc9e7d5-123c-46e4-a4f5-abeb79a77b3f\",\n",
      "        \"_score\": 1.0,\n",
      "        \"_source\": {\n",
      "          \"id\": \"8bc9e7d5-123c-46e4-a4f5-abeb79a77b3f\",\n",
      "          \"url\": \"http://d3idkbp2p2okv.cloudfront.net/#/product/8bc9e7d5-123c-46e4-a4f5-abeb79a77b3f\",\n",
      "          \"sk\": \"\",\n",
      "          \"name\": \"Rose Pink Blush Brush\",\n",
      "          \"category\": \"beauty\",\n",
      "          \"style\": \"grooming\",\n",
      "          \"description\": \"For those looking for a blush brush and something that is rose pink.\",\n",
      "          \"price\": 22,\n",
      "          \"image\": \"http://d3idkbp2p2okv.cloudfront.net/images/beauty/8bc9e7d5-123c-46e4-a4f5-abeb79a77b3f.jpg\",\n",
      "          \"gender_affinity\": \"F\",\n",
      "          \"current_stock\": 4\n",
      "        }\n",
      "      }\n",
      "    ]\n",
      "  }\n",
      "}\n"
     ]
    }
   ],
   "source": [
    "res = es.search(index = INDEX_NAME, body={\"query\": {\"wildcard\": { \"name\": \"brush*\"}}})\n",
    "print(json.dumps(res, indent=2))"
   ]
  },
  {
   "cell_type": "markdown",
   "metadata": {},
   "source": [
    "## Validate Results Through Search Service\n",
    "\n",
    "Finally, let's verify that the Retail Demo Store's [Search service](https://github.com/aws-samples/retail-demo-store/tree/master/src/search) can successfully query from the Elasticsearch index as well.\n",
    "\n",
    "### Discover Search Service\n",
    "\n",
    "First we need to get the address to the [Search service](https://github.com/aws-samples/retail-demo-store/tree/master/src/search)."
   ]
  },
  {
   "cell_type": "code",
   "execution_count": 12,
   "metadata": {},
   "outputs": [
    {
     "name": "stdout",
     "output_type": "stream",
     "text": [
      "Service Instance IP: 10.215.10.226\n"
     ]
    }
   ],
   "source": [
    "response = servicediscovery.discover_instances(\n",
    "    NamespaceName='retaildemostore.local',\n",
    "    ServiceName='search',\n",
    "    MaxResults=1,\n",
    "    HealthStatus='HEALTHY'\n",
    ")\n",
    "\n",
    "search_service_instance = response['Instances'][0]['Attributes']['AWS_INSTANCE_IPV4']\n",
    "print('Service Instance IP: {}'.format(products_service_instance))"
   ]
  },
  {
   "cell_type": "markdown",
   "metadata": {},
   "source": [
    "### Call Search Service\n",
    "\n",
    "Let's call the service's index page which simply echos the service name."
   ]
  },
  {
   "cell_type": "code",
   "execution_count": 13,
   "metadata": {},
   "outputs": [
    {
     "name": "stdout",
     "output_type": "stream",
     "text": [
      "Search Service"
     ]
    }
   ],
   "source": [
    "!curl {search_service_instance}"
   ]
  },
  {
   "cell_type": "markdown",
   "metadata": {},
   "source": [
    "Finally, let's do the same `beard` search through the Search service. We should get back the same item IDs as the direct Elasticsearch query above."
   ]
  },
  {
   "cell_type": "code",
   "execution_count": 14,
   "metadata": {},
   "outputs": [
    {
     "name": "stdout",
     "output_type": "stream",
     "text": [
      "[{\"itemId\": \"39945ad0-57c9-4c28-a69c-532d5d167202\"}, {\"itemId\": \"4296626c-fbb0-42b4-9a50-b6c6c16095f3\"}, {\"itemId\": \"6b229d13-22a7-44d3-a13c-fd98dda49217\"}, {\"itemId\": \"f91ec34f-a08e-4408-8bb0-592bdd09375c\"}, {\"itemId\": \"8bc9e7d5-123c-46e4-a4f5-abeb79a77b3f\"}, {\"itemId\": \"d16df944-ea75-43c3-b54b-6738731c081b\"}, {\"itemId\": \"89728417-5269-403d-baa3-04b59cdffd0a\"}, {\"itemId\": \"b2f9ea63-f7d4-4944-84ce-208164326c8e\"}, {\"itemId\": \"1513d9f0-bb81-4b0c-bab5-20e8ea67c104\"}]"
     ]
    }
   ],
   "source": [
    "!curl {search_service_instance}/search/products?searchTerm='brush'"
   ]
  },
  {
   "cell_type": "markdown",
   "metadata": {},
   "source": [
    "## Workshop Complete\n",
    "\n",
    "**Congratulations!** You have completed the first Retail Demo Store workshop where we indexed the products from the Retail Demo Store's Products microservice in an Elasticsearch domain index. This domain is used by the Retail Demo Store's Search microservice to process search queries from the Web user interface. To see this in action, open the Retail Demo Store's web UI in a new browser tab/window and enter a value in the search field at the top of the page."
   ]
  },
  {
   "cell_type": "markdown",
   "metadata": {},
   "source": [
    "### Next Step\n",
    "\n",
    "Move on to the **[1-Personalization](../1-Personalization/1.1-Personalize.ipynb)** workshop where we will learn how to train machine learning models using Amazon Personalize to produce personalized product recommendations to users and add the ability to provide personalized reranking of products."
   ]
  }
 ],
 "metadata": {
  "kernelspec": {
   "display_name": "conda_python3",
   "language": "python",
   "name": "conda_python3"
  },
  "language_info": {
   "codemirror_mode": {
    "name": "ipython",
    "version": 3
   },
   "file_extension": ".py",
   "mimetype": "text/x-python",
   "name": "python",
   "nbconvert_exporter": "python",
   "pygments_lexer": "ipython3",
   "version": "3.6.10"
  }
 },
 "nbformat": 4,
 "nbformat_minor": 4
}
